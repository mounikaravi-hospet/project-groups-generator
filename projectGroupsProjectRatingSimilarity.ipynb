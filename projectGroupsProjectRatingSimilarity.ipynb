{
 "cells": [
  {
   "cell_type": "code",
   "execution_count": 1,
   "id": "f1a59122-a75d-401e-95fb-4cffeac7ed7e",
   "metadata": {},
   "outputs": [],
   "source": [
    "import pandas as pd\n",
    "import random\n",
    "import statistics\n",
    "\n",
    "GROUP_SIZE = 5\n",
    "required_skills = {'leadership', 'technical', 'creative', 'research', 'communication'}"
   ]
  },
  {
   "cell_type": "code",
   "execution_count": 2,
   "id": "c0ed80f4-e3f4-4b77-9890-c9bf4f2072a0",
   "metadata": {},
   "outputs": [],
   "source": [
    "df = pd.read_csv('students2.csv')"
   ]
  },
  {
   "cell_type": "code",
   "execution_count": 4,
   "id": "eeb3bb5a-2ae3-4819-97a6-db2a33197a42",
   "metadata": {},
   "outputs": [],
   "source": [
    "# Identify the project columns by adding \"project\" before every project name\n",
    "project_columns = [col for col in df.columns if col.startswith(\"project\")]"
   ]
  },
  {
   "cell_type": "code",
   "execution_count": 5,
   "id": "cbe651f5-83b7-4cab-8ec5-7172cc8894d2",
   "metadata": {},
   "outputs": [],
   "source": [
    "# Process the DataFrame into a list of student dictionaries.\n",
    "students = []\n",
    "for _, row in df.iterrows():\n",
    "    # Process the skills: a comma-separated string.\n",
    "    skills = [s.strip().lower() for s in str(row['skills']).split(',')]\n",
    "    \n",
    "    # Process the project ratings: each project column should contain a number (1 to 5).\n",
    "    projects_ratings = {}\n",
    "    for project in project_columns:\n",
    "        try:\n",
    "            rating = float(row[project])\n",
    "        except ValueError:\n",
    "            rating = 0  # or handle missing/invalid ratings as needed\n",
    "        projects_ratings[project] = rating\n",
    "    \n",
    "    students.append({\n",
    "        'name': row['name'],\n",
    "        'skills': skills,\n",
    "        'projects_ratings': projects_ratings\n",
    "    })"
   ]
  },
  {
   "cell_type": "code",
   "execution_count": 6,
   "id": "e788f0b5-7573-4903-8c9e-ea161ea6b91e",
   "metadata": {},
   "outputs": [],
   "source": [
    "def diversity_score_group(group, project_columns):\n",
    "    \"\"\"\n",
    "    Calculates an overall diversity score for a group.\n",
    "    The score is the sum of:\n",
    "      - A skills score: the count of required skills represented in the group.\n",
    "      - A projects score: the sum of standard deviations of ratings for each project.\n",
    "    \"\"\"\n",
    "    # Skill diversity: count of unique required skills present in the group.\n",
    "    group_skills = set()\n",
    "    for student in group:\n",
    "        group_skills.update(student['skills'])\n",
    "    score_skills = len(group_skills.intersection(required_skills))\n",
    "    \n",
    "    # Project diversity: for each project, compute the standard deviation of ratings.\n",
    "    score_projects = 0\n",
    "    for project in project_columns:\n",
    "        ratings = [student['projects_ratings'][project] for student in group]\n",
    "        # Only compute standard deviation if there's more than one rating.\n",
    "        if len(ratings) > 1:\n",
    "            stdev = statistics.stdev(ratings)\n",
    "        else:\n",
    "            stdev = 0\n",
    "        score_projects += stdev\n",
    "    \n",
    "    return score_skills + score_projects"
   ]
  },
  {
   "cell_type": "code",
   "execution_count": 15,
   "id": "b8603633-447c-46ed-96b2-867bf03df4ab",
   "metadata": {},
   "outputs": [],
   "source": [
    "def grouping(students, group_size, project_columns, alpha=1.0):\n",
    "    \"\"\"\n",
    "    Creates groups based on similar project ratings and varied skills.\n",
    "    Each student is assigned to the group where their addition maximizes the composite score.\n",
    "    \"\"\"\n",
    "    n_groups = len(students) // group_size\n",
    "    groups = [[] for _ in range(n_groups)]\n",
    "    \n",
    "    # Shuffle students to randomize the order.\n",
    "    random.shuffle(students)\n",
    "    \n",
    "    # assign each student to the group with the best composite score improvement.\n",
    "    for student in students:\n",
    "        best_group_index = None\n",
    "        best_increase = -float('inf')\n",
    "        \n",
    "        for i in range(n_groups):\n",
    "            # Only consider groups that are not yet full.\n",
    "            if len(groups[i]) < group_size:\n",
    "                current_score = composite_score_group(groups[i], project_columns, alpha)\n",
    "                new_score = composite_score_group(groups[i] + [student], project_columns, alpha)\n",
    "                score_increase = new_score - current_score\n",
    "                \n",
    "                if score_increase > best_increase:\n",
    "                    best_increase = score_increase\n",
    "                    best_group_index = i\n",
    "        \n",
    "        groups[best_group_index].append(student)\n",
    "    \n",
    "    return groups\n"
   ]
  },
  {
   "cell_type": "code",
   "execution_count": 14,
   "id": "43ae66ae-87a2-41cf-9102-ef01b4f0ada5",
   "metadata": {},
   "outputs": [],
   "source": [
    "def composite_score_group(group, project_columns, alpha=1.0):\n",
    "    \"\"\"\n",
    "    Calculates an overall score for a group that rewards similar project ratings \n",
    "    (lower variance) and varied skills.\n",
    "    \n",
    "    Higher skill diversity is good, while higher standard deviation in project ratings \n",
    "    is penalized.\n",
    "    \"\"\"\n",
    "    # Skill diversity: count of unique required skills present in the group.\n",
    "    group_skills = set()\n",
    "    for student in group:\n",
    "        group_skills.update(student['skills'])\n",
    "    score_skills = len(group_skills.intersection(required_skills))\n",
    "    \n",
    "    # Project rating similarity: calculate the sum of standard deviations.\n",
    "    total_std = 0\n",
    "    for project in project_columns:\n",
    "        ratings = [student['projects_ratings'][project] for student in group]\n",
    "        if len(ratings) > 1:\n",
    "            total_std += statistics.stdev(ratings)\n",
    "    \n",
    "    # We subtract the variance part (weighted by alpha) so that lower variance increases the score.\n",
    "    total_score = score_skills - alpha * total_std\n",
    "    return total_score"
   ]
  },
  {
   "cell_type": "code",
   "execution_count": 13,
   "id": "3f5113c7-30c0-41d4-90d5-4d7306b0ff94",
   "metadata": {},
   "outputs": [
    {
     "name": "stdout",
     "output_type": "stream",
     "text": [
      "Group 1 (Composite Score: -4.46):\n",
      "  - Fiona | Skills: technical, research\n",
      "  - Tina | Skills: communication, leadership\n",
      "  - Alice | Skills: leadership, communication\n",
      "  - Ian | Skills: technical, communication\n",
      "  - Bob | Skills: technical, research\n",
      "\n",
      "Group 2 (Composite Score: -3.39):\n",
      "  - Julia | Skills: creative, leadership\n",
      "  - Charlie | Skills: creative, technical\n",
      "  - George | Skills: creative, communication\n",
      "  - Evan | Skills: leadership, creative\n",
      "  - Diana | Skills: research, communication\n",
      "\n",
      "Group 3 (Composite Score: -3.03):\n",
      "  - Nina | Skills: research, creative\n",
      "  - Mike | Skills: leadership, technical\n",
      "  - Hannah | Skills: leadership, research\n",
      "  - Steve | Skills: technical, creative\n",
      "  - Oliver | Skills: communication, leadership\n",
      "\n",
      "Group 4 (Composite Score: -3.74):\n",
      "  - Rachel | Skills: leadership, research\n",
      "  - Quentin | Skills: creative, communication\n",
      "  - Laura | Skills: creative, communication\n",
      "  - Kevin | Skills: technical, research\n",
      "  - Paula | Skills: technical, research\n",
      "\n"
     ]
    }
   ],
   "source": [
    "groups = grouping(students.copy(), GROUP_SIZE, project_columns, alpha=1.0)\n",
    "\n",
    "for idx, group in enumerate(groups, 1):\n",
    "    score = composite_score_group(group, project_columns, alpha=1.0)\n",
    "    print(f\"Group {idx} (Composite Score: {score:.2f}):\")\n",
    "    for student in group:\n",
    "        ratings_str = \", \".join(f\"{proj}: {student['projects_ratings'][proj]}\" for proj in project_columns)\n",
    "        print(f\"  - {student['name']} | Skills: {', '.join(student['skills'])}\")\n",
    "    print()"
   ]
  },
  {
   "cell_type": "code",
   "execution_count": null,
   "id": "dcce4de1-445c-4c94-8948-b020863caf9d",
   "metadata": {},
   "outputs": [],
   "source": []
  }
 ],
 "metadata": {
  "kernelspec": {
   "display_name": "Python 3 (ipykernel)",
   "language": "python",
   "name": "python3"
  },
  "language_info": {
   "codemirror_mode": {
    "name": "ipython",
    "version": 3
   },
   "file_extension": ".py",
   "mimetype": "text/x-python",
   "name": "python",
   "nbconvert_exporter": "python",
   "pygments_lexer": "ipython3",
   "version": "3.11.7"
  }
 },
 "nbformat": 4,
 "nbformat_minor": 5
}
