{
 "cells": [
  {
   "cell_type": "code",
   "execution_count": 18,
   "id": "388e280f-ca7b-495a-a276-3af8a229e645",
   "metadata": {},
   "outputs": [],
   "source": [
    "import pandas as pd\n",
    "import random\n",
    "\n",
    "GROUP_SIZE = 5\n",
    "required_skills = {'leadership', 'technical', 'creative', 'research', 'communication'}\n",
    "df = pd.read_csv('D:\\Temple\\s25\\students.csv')"
   ]
  },
  {
   "cell_type": "code",
   "execution_count": 19,
   "id": "9e821ecc-3292-4383-be77-2da28008085a",
   "metadata": {},
   "outputs": [
    {
     "data": {
      "text/html": [
       "<div>\n",
       "<style scoped>\n",
       "    .dataframe tbody tr th:only-of-type {\n",
       "        vertical-align: middle;\n",
       "    }\n",
       "\n",
       "    .dataframe tbody tr th {\n",
       "        vertical-align: top;\n",
       "    }\n",
       "\n",
       "    .dataframe thead th {\n",
       "        text-align: right;\n",
       "    }\n",
       "</style>\n",
       "<table border=\"1\" class=\"dataframe\">\n",
       "  <thead>\n",
       "    <tr style=\"text-align: right;\">\n",
       "      <th></th>\n",
       "      <th>name</th>\n",
       "      <th>skills</th>\n",
       "      <th>top5projects</th>\n",
       "    </tr>\n",
       "  </thead>\n",
       "  <tbody>\n",
       "    <tr>\n",
       "      <th>0</th>\n",
       "      <td>Alice</td>\n",
       "      <td>leadership, communication</td>\n",
       "      <td>project1, project2, project3, project4, project5</td>\n",
       "    </tr>\n",
       "    <tr>\n",
       "      <th>1</th>\n",
       "      <td>Bob</td>\n",
       "      <td>technical, research</td>\n",
       "      <td>project2, project3, project6, project8, project10</td>\n",
       "    </tr>\n",
       "    <tr>\n",
       "      <th>2</th>\n",
       "      <td>Charlie</td>\n",
       "      <td>creative, technical</td>\n",
       "      <td>project1, project4, project5, project7, project9</td>\n",
       "    </tr>\n",
       "    <tr>\n",
       "      <th>3</th>\n",
       "      <td>Diana</td>\n",
       "      <td>research, communication</td>\n",
       "      <td>project2, project4, project6, project8, project10</td>\n",
       "    </tr>\n",
       "    <tr>\n",
       "      <th>4</th>\n",
       "      <td>Evan</td>\n",
       "      <td>leadership, creative</td>\n",
       "      <td>project1, project3, project7, project8, project9</td>\n",
       "    </tr>\n",
       "  </tbody>\n",
       "</table>\n",
       "</div>"
      ],
      "text/plain": [
       "      name                     skills  \\\n",
       "0    Alice  leadership, communication   \n",
       "1      Bob        technical, research   \n",
       "2  Charlie        creative, technical   \n",
       "3    Diana    research, communication   \n",
       "4     Evan       leadership, creative   \n",
       "\n",
       "                                        top5projects  \n",
       "0   project1, project2, project3, project4, project5  \n",
       "1  project2, project3, project6, project8, project10  \n",
       "2   project1, project4, project5, project7, project9  \n",
       "3  project2, project4, project6, project8, project10  \n",
       "4   project1, project3, project7, project8, project9  "
      ]
     },
     "execution_count": 19,
     "metadata": {},
     "output_type": "execute_result"
    }
   ],
   "source": [
    "df.head()"
   ]
  },
  {
   "cell_type": "code",
   "execution_count": 20,
   "id": "c99f884a-264b-41eb-ba02-3830d72e41a6",
   "metadata": {},
   "outputs": [],
   "source": [
    "students = []\n",
    "for _, row in df.iterrows():\n",
    "    # Split the comma-separated strings and normalize the entries.\n",
    "    skills = [s.strip().lower() for s in str(row['skills']).split(',')]\n",
    "    projects = [p.strip().lower() for p in str(row['top5projects']).split(',')]\n",
    "    students.append({\n",
    "        'name': row['name'],\n",
    "        'skills': skills,\n",
    "        'top5projects': projects\n",
    "    })"
   ]
  },
  {
   "cell_type": "code",
   "execution_count": 21,
   "id": "47592831-71e6-4a44-84e3-2c9bb69c8744",
   "metadata": {},
   "outputs": [],
   "source": [
    "def diversity_score_group(group):\n",
    "    \"\"\"Calculate diversity score based on skills and project interests.\"\"\"\n",
    "    group_skills = set()\n",
    "    group_projects = set()\n",
    "    for student in group:\n",
    "        group_skills.update(student['skills'])\n",
    "        group_projects.update(student['top5projects'])\n",
    "    # Count only the required skills (if present) for one part of the score.\n",
    "    score_skills = len(group_skills.intersection(required_skills))\n",
    "    # Use the number of unique project interests as the second part.\n",
    "    score_projects = len(group_projects)\n",
    "    return score_skills + score_projects"
   ]
  },
  {
   "cell_type": "code",
   "execution_count": 22,
   "id": "abce1f16-8d83-4b3b-bfed-95c60285f76d",
   "metadata": {},
   "outputs": [],
   "source": [
    "def generate_partitions(indices, group_size):\n",
    "    n_groups = len(students) // group_size\n",
    "    groups = [[] for _ in range(n_groups)]\n",
    "    \n",
    "    # Shuffle students to randomize the order\n",
    "    random.shuffle(students)\n",
    "    \n",
    "    # Assign each student to the group where they contribute the most to diversity\n",
    "    for student in students:\n",
    "        best_group_index = None\n",
    "        best_increase = -1\n",
    "        \n",
    "        for i in range(n_groups):\n",
    "            # Only consider groups that are not yet full\n",
    "            if len(groups[i]) < group_size:\n",
    "                current_score = diversity_score_group(groups[i])\n",
    "                new_score = diversity_score_group(groups[i] + [student])\n",
    "                increase = new_score - current_score\n",
    "                if increase > best_increase:\n",
    "                    best_increase = increase\n",
    "                    best_group_index = i\n",
    "        \n",
    "        # Assign student to the best group found\n",
    "        groups[best_group_index].append(student)\n",
    "    \n",
    "    return groups"
   ]
  },
  {
   "cell_type": "code",
   "execution_count": 23,
   "id": "d219bffd-64a6-4dc7-b5fd-9930ab40e26c",
   "metadata": {},
   "outputs": [],
   "source": [
    "groups = generate_partitions(students.copy(), GROUP_SIZE)"
   ]
  },
  {
   "cell_type": "code",
   "execution_count": 24,
   "id": "54c1e89d-64ae-4750-aa38-ce02b1e1cb69",
   "metadata": {},
   "outputs": [
    {
     "name": "stdout",
     "output_type": "stream",
     "text": [
      "Group 1 (Diversity Score: 15):\n",
      "  - Evan | Skills: leadership, creative | Projects: project1, project3, project7, project8, project9\n",
      "  - Julia | Skills: creative, leadership | Projects: project2, project4, project6, project8, project10\n",
      "  - Kevin | Skills: technical, research | Projects: project1, project3, project7, project8, project9\n",
      "  - Ian | Skills: technical, communication | Projects: project1, project3, project5, project7, project10\n",
      "  - Mike | Skills: leadership, technical | Projects: project1, project5, project7, project8, project10\n",
      "\n",
      "Group 2 (Diversity Score: 15):\n",
      "  - George | Skills: creative, communication | Projects: project1, project4, project6, project8, project10\n",
      "  - Fiona | Skills: technical, research | Projects: project2, project3, project5, project7, project10\n",
      "  - Steve | Skills: technical, creative | Projects: project1, project3, project5, project7, project9\n",
      "  - Hannah | Skills: leadership, research | Projects: project2, project5, project7, project8, project9\n",
      "  - Tina | Skills: communication, leadership | Projects: project2, project4, project6, project8, project10\n",
      "\n",
      "Group 3 (Diversity Score: 15):\n",
      "  - Nina | Skills: research, creative | Projects: project2, project4, project6, project8, project9\n",
      "  - Bob | Skills: technical, research | Projects: project2, project3, project6, project8, project10\n",
      "  - Oliver | Skills: communication, leadership | Projects: project1, project3, project5, project7, project10\n",
      "  - Laura | Skills: creative, communication | Projects: project2, project4, project6, project8, project10\n",
      "  - Paula | Skills: technical, research | Projects: project2, project4, project6, project8, project10\n",
      "\n",
      "Group 4 (Diversity Score: 15):\n",
      "  - Charlie | Skills: creative, technical | Projects: project1, project4, project5, project7, project9\n",
      "  - Rachel | Skills: leadership, research | Projects: project2, project5, project6, project8, project10\n",
      "  - Diana | Skills: research, communication | Projects: project2, project4, project6, project8, project10\n",
      "  - Quentin | Skills: creative, communication | Projects: project1, project3, project7, project8, project9\n",
      "  - Alice | Skills: leadership, communication | Projects: project1, project2, project3, project4, project5\n",
      "\n"
     ]
    }
   ],
   "source": [
    "for idx, group in enumerate(groups, 1):\n",
    "    score = diversity_score_group(group)\n",
    "    print(f\"Group {idx} (Diversity Score: {score}):\")\n",
    "    for student in group:\n",
    "        print(f\"  - {student['name']} | Skills: {', '.join(student['skills'])} | Projects: {', '.join(student['top5projects'])}\")\n",
    "    print()"
   ]
  },
  {
   "cell_type": "code",
   "execution_count": null,
   "id": "e4561deb-c259-4b70-8c2b-183fba21bc86",
   "metadata": {},
   "outputs": [],
   "source": []
  }
 ],
 "metadata": {
  "kernelspec": {
   "display_name": "Python 3 (ipykernel)",
   "language": "python",
   "name": "python3"
  },
  "language_info": {
   "codemirror_mode": {
    "name": "ipython",
    "version": 3
   },
   "file_extension": ".py",
   "mimetype": "text/x-python",
   "name": "python",
   "nbconvert_exporter": "python",
   "pygments_lexer": "ipython3",
   "version": "3.11.7"
  }
 },
 "nbformat": 4,
 "nbformat_minor": 5
}
